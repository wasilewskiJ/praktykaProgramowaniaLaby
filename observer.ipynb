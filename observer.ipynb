{
  "cells": [
    {
      "cell_type": "markdown",
      "metadata": {
        "id": "view-in-github",
        "colab_type": "text"
      },
      "source": [
        "<a href=\"https://colab.research.google.com/github/wasilewskiJ/praktykaProgramowaniaLaby/blob/main/observer.ipynb\" target=\"_parent\"><img src=\"https://colab.research.google.com/assets/colab-badge.svg\" alt=\"Open In Colab\"/></a>"
      ]
    },
    {
      "cell_type": "markdown",
      "metadata": {
        "id": "2YbykHJm24AQ"
      },
      "source": [
        "# Wzorzec Projektowy: Obserwator\n",
        "\n",
        "## Wprowadzenie\n",
        "\n",
        "Wzorzec projektowy **Obserwator** (ang. Observer) należy do kategorii wzorców behawioralnych. Umożliwia on obiektom, zwanym obserwatorami, śledzenie stanu innego obiektu (podmiotu) w sposób luźno powiązany. Kiedy podmiot zmienia swój stan, automatycznie powiadamia wszystkie swoje obserwatory o zmianie, co pozwala im zareagować. Wzorzec ten jest często używany w systemach, w których wiele komponentów musi być jednocześnie aktualizowanych o stanie jednego obiektu."
      ]
    },
    {
      "cell_type": "markdown",
      "metadata": {
        "id": "Lh-L9WMK24AS"
      },
      "source": [
        "## Zasada Działania\n",
        "\n",
        "1. Publikujący rozsyła zdarzenia interesujące inne obiekty. Zdarzenia te zachodzą gdy publikujący zmienia swój stan lub wykona jakieś obowiązki. Publikujący posiadają infrastrukturę dającą możliwość subskrybowania ich zdarzeń lub przerwania subskrypcji.\n",
        "2. Gdy nastąpi nowe zdarzenie, nadawca przegląda listę subskrybentów i wywołuje metody powiadamiania zadeklarowane w ich interfejsach.",
        "3. Interfejs Subskrybenta deklaruje interfejs powiadamiania. W większości przypadków składa się on z jednej metody aktualizuj. Metoda ta może przyjmować wiele parametrów pozwalających publikującemu przekazać za ich pomocą szczegóły dotyczące aktualizacji.",
        "4. Konkretni Subskrybenci wykonują jakieś czynności w odpowiedzi na powiadomienia wysłane przez publikującego. Wszystkie te klasy muszą implementować ten sam interfejs, aby nadawca nie musiał być sprzęgnięty z ich konkretnymi klasami.",
        "5.  Zazwyczaj, subskrybenci potrzebują jakichś kontekstowych informacji aby poprawnie obsłużyć aktualizacje. Dlatego publikujący na ogół przekazują dane kontekstowe jako argumenty metody powiadamiania. Publikujący może przekazać samego siebie jako argument, umożliwiając subskrybentom pobranie sobie potrzebnych danych bezpośrednio.",
        "6.Klient tworzy obiekty publikujące i subskrybujące osobno, po czym rejestruje subskrybentów by mogli otrzymywać aktualizacje od publikującego.",
      ]
    },
    {
      "cell_type": "markdown",
      "metadata": {
        "id": "GRdiuUzW24AS"
      },
      "source": [
        "## Diagram UML\n",
        "\n",
        "![Diagram UML](https://refactoring.guru/images/patterns/diagrams/observer/structure.png)\n",
        "\n",
        "W powyższym diagramie UML można zobaczyć relacje między klasami w strukturze wzorca Obserwator:\n",
      ]
    },
    {
      "cell_type": "markdown",
      "metadata": {
        "id": "yCK3N9XO24AT"
      },
      "source": [
        "## Przykładowa Implementacja w Pythonie\n",
        "\n",
        "Poniżej przedstawiono przykładowy kod ilustrujący działanie wzorca Obserwator w Pythonie.\n",
        "\n",
        "```python\n",
        "# Interface for Observer\n",
        "class Observer:\n",
        "    def update(self, state):\n",
        "        pass\n",
        "\n",
        "# Interface for Subject\n",
        "class Subject:\n",
        "    def __init__(self):\n",
        "        self._observers = []\n",
        "        self._state = None\n",
        "\n",
        "    def attach(self, observer):\n",
        "        self._observers.append(observer)\n",
        "\n",
        "    def detach(self, observer):\n",
        "        self._observers.remove(observer)\n",
        "\n",
        "    def notify(self):\n",
        "        for observer in self._observers:\n",
        "            observer.update(self._state)\n",
        "\n",
        "    def set_state(self, state):\n",
        "        self._state = state\n",
        "        self.notify()\n",
        "\n",
        "# Concrete Observer\n",
        "class ConcreteObserver(Observer):\n",
        "    def __init__(self, name):\n",
        "        self.name = name\n",
        "\n",
        "    def update(self, state):\n",
        "        print(f\"{self.name} otrzymał aktualizację: {state}\")\n",
        "\n",
        "# Example usage\n",
        "if __name__ == \"__main__\":\n",
        "    subject = Subject()\n",
        "    observer1 = ConcreteObserver(\"Obserwator 1\")\n",
        "    observer2 = ConcreteObserver(\"Obserwator 2\")\n",
        "\n",
        "    subject.attach(observer1)\n",
        "    subject.attach(observer2)\n",
        "\n",
        "    subject.set_state(\"Stan 1\")\n",
        "    subject.set_state(\"Stan 2\")\n",
        "```\n"
      ]
    },
    {
      "cell_type": "markdown",
      "metadata": {
        "id": "T4a1yXs524AT"
      },
      "source": [
        "## Zalety i Wady\n",
        "\n",
        "### Zalety\n",
        "- **Luźne Powiązania:** Podmiot nie musi znać szczegółów implementacji obserwatorów, co pozwala zachować elastyczność.\n",
        "- **Rozszerzalność:** Nowi obserwatorzy mogą być dodawani i usuwani dynamicznie, co ułatwia skalowanie.\n",
        "- **Wielokrotność Zastosowań:** Wzorzec ten można dostosować do wielu różnych scenariuszy projektowych.\n",
        "\n",
        "### Wady\n",
        "- **Wydajność:** Powiadamianie dużej liczby obserwatorów może spowolnić działanie systemu.\n",
        "- **Nadmierna Zależność:** Obserwatorzy stają się zależni od stanu podmiotu, co może prowadzić do niepożądanych efektów, jeśli podmiot zawiera błędy lub nie działa poprawnie.\n",
        "- **Niezgodność Stanów:** Opóźnienia w aktualizacji obserwatorów mogą powodować, że będą one w niespójnych stanach."
      ]
    },
    {
      "cell_type": "markdown",
      "metadata": {
        "id": "lBkTX3fz24AU"
      },
      "source": [
        "# Zadania do wykonania\n",
        "\n",
        "W tej sekcji znajdziesz zadania pozwalające Ci lepiej zrozumieć wzorzec Obserwator.\n"
      ]
    },
    {
      "cell_type": "markdown",
      "metadata": {
        "id": "OzOROBMv24AU"
      },
      "source": [
        "### Zadanie 1\n",
        "\n",
        "**Rozszerz istniejącą implementację wzorca:**\n",
        "Dodaj do kodu `Subject` metodę, która przekazuje różne typy danych do obserwatorów. Dodaj kilka konkretnych obserwatorów, które różnie przetwarzają różne typy danych, drukując informacje odpowiednio do ich rodzaju.\n"
      ]
    },
    {
      "cell_type": "code",
      "source": [],
      "metadata": {
        "id": "KLDLKBLB26JV"
      },
      "execution_count": null,
      "outputs": []
    },
    {
      "cell_type": "markdown",
      "metadata": {
        "id": "qd92AtmS24AU"
      },
      "source": [
        "### Zadanie 2\n",
        "\n",
        "**Implementacja wzorca w nowym kontekście:**\n",
        "Utwórz przykład z użyciem wzorca Obserwator, w którym podmiotem jest czujnik temperatury, a obserwatorami jednostki monitorujące. Czujnik powinien powiadamiać wszystkie jednostki o przekroczeniu ustalonego progu temperatury, umożliwiając każdej z nich reagowanie na różne sposoby.\n"
      ]
    },
    {
      "cell_type": "code",
      "source": [],
      "metadata": {
        "id": "faUX0hFs26sO"
      },
      "execution_count": null,
      "outputs": []
    },
    {
      "cell_type": "markdown",
      "metadata": {
        "id": "znDuHuoR24AV"
      },
      "source": [
        "### Zadanie 3\n",
        "\n",
        "**Testowanie wzorca:**\n",
        "Stwórz zestaw testów jednostkowych dla istniejącej implementacji wzorca. Upewnij się, że obserwatorzy są poprawnie powiadamiani, bez pomijania żadnego z nich, oraz że dane są poprawnie przetwarzane.\n"
      ]
    },
    {
      "cell_type": "code",
      "source": [],
      "metadata": {
        "id": "--ET4BiR27Sz"
      },
      "execution_count": null,
      "outputs": []
    },
    {
      "cell_type": "markdown",
      "metadata": {
        "id": "uO843cIl24AW"
      },
      "source": [
        "### Zadanie 4 (Z GWIAZDKĄ)\n",
        "\n",
        "**Dodanie priorytetów:**\n",
        "Rozszerz istniejącą implementację wzorca, dodając mechanizm priorytetów dla obserwatorów. Każdy obserwator powinien mieć priorytet (wysoki, średni, niski), który decyduje o kolejności powiadamiania. Sprawdź działanie tego mechanizmu, zmieniając priorytety obserwatorów.\n"
      ]
    },
    {
      "cell_type": "code",
      "source": [],
      "metadata": {
        "id": "ozyLq2X327qL"
      },
      "execution_count": null,
      "outputs": []
    },
    {
      "cell_type": "markdown",
      "metadata": {
        "id": "wbtNZBJw24AW"
      },
      "source": [
        "### Zadanie 5 (Z GWIAZDKĄ)\n",
        "\n",
        "**Dodanie filtra:**\n",
        "Dodaj do kodu `Subject` metodę umożliwiającą filtrowanie powiadomień, tak by tylko obserwatorzy spełniający określone warunki byli powiadamiani o zmianach. Upewnij się, że pozostałe obserwatory nie są powiadamiane.\n"
      ]
    },
    {
      "cell_type": "code",
      "source": [],
      "metadata": {
        "id": "fVC2EmfK28Fi"
      },
      "execution_count": null,
      "outputs": []
    }
  ],
  "metadata": {
    "kernelspec": {
      "display_name": "Python 3",
      "language": "python",
      "name": "python3"
    },
    "language_info": {
      "codemirror_mode": {
        "name": "ipython",
        "version": 3
      },
      "file_extension": ".py",
      "mimetype": "text/x-python",
      "name": "python",
      "nbconvert_exporter": "python",
      "pygments_lexer": "ipython3",
      "version": "3.7.3"
    },
    "colab": {
      "provenance": [],
      "include_colab_link": true
    }
  },
  "nbformat": 4,
  "nbformat_minor": 0
}
